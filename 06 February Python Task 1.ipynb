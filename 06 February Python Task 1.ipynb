{
 "cells": [
  {
   "cell_type": "markdown",
   "id": "5ec2613c",
   "metadata": {},
   "source": [
    "# Assignment "
   ]
  },
  {
   "cell_type": "markdown",
   "id": "bb81ea3e",
   "metadata": {},
   "source": [
    "## Q1. Create a function which will take a list as an argument and return the product of all the numbers after creating a flat list.\n",
    "### Use the below-given list as an argument for your function.\n",
    "### list1 = [1,2,3,4, [44,55,66, True], False, (34,56,78,89,34), {1,2,3,3,2,1}, {1:34, \"key2\": [55, 67, 78, 89], 4: (45, 22, 61, 34)}, [56, 'data science'], 'Machine Learning']\n",
    "#### Note: you must extract numeric keys and values of the dictionary also.\n",
    "## Answer:"
   ]
  },
  {
   "cell_type": "code",
   "execution_count": 1,
   "id": "f5b6a1d5",
   "metadata": {},
   "outputs": [],
   "source": [
    "# function which take list as an input and return numeric value list\n",
    "def test(a):\n",
    "    n=[]\n",
    "    for i in a:\n",
    "        if type(i)==list or type(i)==tuple or type(i)==set or type(i)==dict:\n",
    "            for j in i:\n",
    "                if type(j)==int:\n",
    "                    n.append(j)\n",
    "        if type(i)==dict:\n",
    "            for j in i:\n",
    "                if type(i[j])==list or type(i[j])==tuple or type(i[j])==set:\n",
    "                    for k in i[j]:\n",
    "                        if type(k)==int:\n",
    "                            n.append(k)\n",
    "\n",
    "        else:     \n",
    "            if type(i) == int :\n",
    "                n.append(i)\n",
    "    return n\n"
   ]
  },
  {
   "cell_type": "code",
   "execution_count": 2,
   "id": "38ec2288",
   "metadata": {},
   "outputs": [
    {
     "data": {
      "text/plain": [
       "[1,\n",
       " 2,\n",
       " 3,\n",
       " 4,\n",
       " 44,\n",
       " 55,\n",
       " 66,\n",
       " 34,\n",
       " 56,\n",
       " 78,\n",
       " 89,\n",
       " 34,\n",
       " 1,\n",
       " 2,\n",
       " 3,\n",
       " 1,\n",
       " 4,\n",
       " 55,\n",
       " 67,\n",
       " 78,\n",
       " 89,\n",
       " 45,\n",
       " 22,\n",
       " 61,\n",
       " 34,\n",
       " 56]"
      ]
     },
     "execution_count": 2,
     "metadata": {},
     "output_type": "execute_result"
    }
   ],
   "source": [
    "list1 = [1,2,3,4, [44,55,66, True], False, (34,56,78,89,34), {1,2,3,3,2,1}, {1:34, \"key2\": [55, 67, 78, 89], 4: (45, 22, 61, 34)}, [56, 'data science'], 'Machine Learning']\n",
    "test(list1)"
   ]
  },
  {
   "cell_type": "code",
   "execution_count": 3,
   "id": "bebd6239",
   "metadata": {},
   "outputs": [
    {
     "data": {
      "text/plain": [
       "121609171734914278789230624768000"
      ]
     },
     "execution_count": 3,
     "metadata": {},
     "output_type": "execute_result"
    }
   ],
   "source": [
    "from functools import reduce\n",
    "reduce(lambda x,y:x*y,test(list1))"
   ]
  },
  {
   "cell_type": "markdown",
   "id": "ebb011b4",
   "metadata": {},
   "source": [
    "................................................................................................................................"
   ]
  },
  {
   "cell_type": "markdown",
   "id": "326386a6",
   "metadata": {},
   "source": [
    "## Q2. Write a python program for encrypting a message sent to you by your friend. The logic of encryption should be such that, for a the output should be z. For b, the output should be y. For c, the output should be x respectively. Also, the whitespace should be replaced with a dollar sign. Keep the punctuation marks unchanged.\n",
    "### Input Sentence: I want to become a Data Scientist.\n",
    "### Encrypt the above input sentence using the program you just created.\n",
    "#### Note: Convert the given input sentence into lowercase before encrypting. The final output should be lowercase.\n",
    "## Answer:"
   ]
  },
  {
   "cell_type": "code",
   "execution_count": 4,
   "id": "9f8b1f2b",
   "metadata": {},
   "outputs": [],
   "source": [
    "A=[]\n",
    "Z=[]\n",
    "for i in range(97,123):\n",
    "    A.append(chr(i))  \n",
    "for j in range(122,96,-1):\n",
    "    Z.append(chr(j))"
   ]
  },
  {
   "cell_type": "code",
   "execution_count": 5,
   "id": "4ebf03c8",
   "metadata": {},
   "outputs": [],
   "source": [
    "sen=\"I want to become a Data Scientist\"\n",
    "sen1=sen.lower()\n",
    "l=[]\n",
    "for i in range(len(sen1)):\n",
    "    if(sen1[i]==' '):\n",
    "        l.append('$')\n",
    "    else:\n",
    "            for j in range(26):\n",
    "                if sen1[i]==A[j]:\n",
    "                    l.append(Z[j])"
   ]
  },
  {
   "cell_type": "code",
   "execution_count": 6,
   "id": "d5bc6ae1",
   "metadata": {},
   "outputs": [
    {
     "name": "stdout",
     "output_type": "stream",
     "text": [
      "r$dzmg$gl$yvxlnv$z$wzgz$hxrvmgrhg\n"
     ]
    }
   ],
   "source": [
    "print(\"\".join(l))"
   ]
  },
  {
   "cell_type": "markdown",
   "id": "477cc01f",
   "metadata": {},
   "source": [
    "................................................................................................................................"
   ]
  }
 ],
 "metadata": {
  "kernelspec": {
   "display_name": "Python 3 (ipykernel)",
   "language": "python",
   "name": "python3"
  },
  "language_info": {
   "codemirror_mode": {
    "name": "ipython",
    "version": 3
   },
   "file_extension": ".py",
   "mimetype": "text/x-python",
   "name": "python",
   "nbconvert_exporter": "python",
   "pygments_lexer": "ipython3",
   "version": "3.9.13"
  }
 },
 "nbformat": 4,
 "nbformat_minor": 5
}
